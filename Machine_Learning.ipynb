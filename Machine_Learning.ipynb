{
  "nbformat": 4,
  "nbformat_minor": 0,
  "metadata": {
    "colab": {
      "provenance": []
    },
    "kernelspec": {
      "name": "python3",
      "display_name": "Python 3"
    },
    "language_info": {
      "name": "python"
    }
  },
  "cells": [
    {
      "cell_type": "markdown",
      "source": [
        "### Machine Learning Concepts and Algorithms"
      ],
      "metadata": {
        "id": "p132NESeHGfJ"
      }
    },
    {
      "cell_type": "code",
      "execution_count": 2,
      "metadata": {
        "id": "AdAWbpm29ns1",
        "colab": {
          "base_uri": "https://localhost:8080/"
        },
        "outputId": "5586ea06-3e0c-43fd-8fd0-5317008a819e"
      },
      "outputs": [
        {
          "output_type": "stream",
          "name": "stdout",
          "text": [
            "I am starting a long jounrney and I wont stop until i become the best version of myself\n"
          ]
        }
      ],
      "source": [
        "print(\"I am starting a long jounrney and I wont stop until i become the best version of myself\")"
      ]
    },
    {
      "cell_type": "markdown",
      "source": [],
      "metadata": {
        "id": "hee37s_rHD29"
      }
    }
  ]
}