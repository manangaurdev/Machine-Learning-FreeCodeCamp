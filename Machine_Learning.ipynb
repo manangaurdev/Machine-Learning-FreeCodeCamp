{
  "nbformat": 4,
  "nbformat_minor": 0,
  "metadata": {
    "colab": {
      "provenance": [],
      "authorship_tag": "ABX9TyOGOb8P4uu5sexJxe11ZpYM",
      "include_colab_link": true
    },
    "kernelspec": {
      "name": "python3",
      "display_name": "Python 3"
    },
    "language_info": {
      "name": "python"
    }
  },
  "cells": [
    {
      "cell_type": "markdown",
      "metadata": {
        "id": "view-in-github",
        "colab_type": "text"
      },
      "source": [
        "<a href=\"https://colab.research.google.com/github/manangaurdev/Machine-Learning-FreeCodeCamp/blob/main/Machine_Learning.ipynb\" target=\"_parent\"><img src=\"https://colab.research.google.com/assets/colab-badge.svg\" alt=\"Open In Colab\"/></a>"
      ]
    },
    {
      "cell_type": "markdown",
      "source": [
        "### Machine Learning Concepts and Algorithms"
      ],
      "metadata": {
        "id": "p132NESeHGfJ"
      }
    },
    {
      "cell_type": "code",
      "execution_count": null,
      "metadata": {
        "id": "AdAWbpm29ns1",
        "colab": {
          "base_uri": "https://localhost:8080/"
        },
        "outputId": "5586ea06-3e0c-43fd-8fd0-5317008a819e"
      },
      "outputs": [
        {
          "output_type": "stream",
          "name": "stdout",
          "text": [
            "I am starting a long jounrney and I wont stop until i become the best version of myself\n"
          ]
        }
      ],
      "source": [
        "print(\"I am starting a long jounrney and I wont stop until i become the best version of myself\")"
      ]
    },
    {
      "cell_type": "markdown",
      "source": [
        "Ram Ram ji"
      ],
      "metadata": {
        "id": "hee37s_rHD29"
      }
    },
    {
      "cell_type": "code",
      "source": [
        "print(\"Ram Ram bhai sareya ne...\")"
      ],
      "metadata": {
        "colab": {
          "base_uri": "https://localhost:8080/"
        },
        "id": "yw7aTvQo7puO",
        "outputId": "40b27627-bc3a-41e1-932c-8bfc9012f745"
      },
      "execution_count": 3,
      "outputs": [
        {
          "output_type": "stream",
          "name": "stdout",
          "text": [
            "Ram Ram bhai sareya ne...\n"
          ]
        }
      ]
    }
  ]
}